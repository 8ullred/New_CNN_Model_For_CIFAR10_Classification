{
  "nbformat": 4,
  "nbformat_minor": 0,
  "metadata": {
    "colab": {
      "provenance": [],
      "gpuType": "T4"
    },
    "kernelspec": {
      "name": "python3",
      "display_name": "Python 3"
    },
    "language_info": {
      "name": "python"
    },
    "accelerator": "GPU"
  },
  "cells": [
    {
      "cell_type": "code",
      "execution_count": 1,
      "metadata": {
        "id": "sggAxZSB62B5"
      },
      "outputs": [],
      "source": [
        "import tensorflow as tf\n",
        "from tensorflow import keras\n",
        "\n"
      ]
    },
    {
      "cell_type": "code",
      "source": [
        "from tensorflow.keras import layers, regularizers\n",
        "from tensorflow.keras.layers import Dense, BatchNormalization, Dropout\n",
        "from tensorflow.keras.optimizers.schedules import ExponentialDecay, PiecewiseConstantDecay, CosineDecay\n",
        "from keras.preprocessing.image import ImageDataGenerator\n",
        "import numpy as np\n",
        "\n",
        "# import tensorflow.keras.optimizers.schedules.ExponentialDecay\n",
        "# import tensorflow.keras.optimizers.schedules.PiecewiseConstantDecay\n",
        "# import tensorflow.keras.optimizers.schedules.CosineDecay"
      ],
      "metadata": {
        "id": "Fu9KrFsU7mf1"
      },
      "execution_count": 2,
      "outputs": []
    },
    {
      "cell_type": "markdown",
      "source": [
        "Load the CIFAR10 dataset"
      ],
      "metadata": {
        "id": "9w7iUrHu7ui-"
      }
    },
    {
      "cell_type": "code",
      "source": [
        "(x_train, y_train), (x_test, y_test) = keras.datasets.cifar10.load_data()\n",
        "# x_train.shape\n",
        "# y_train.shape\n",
        "# y_train = np.reshape(y_train, (50000, ))\n"
      ],
      "metadata": {
        "id": "6xwux84Z7tv3",
        "colab": {
          "base_uri": "https://localhost:8080/"
        },
        "outputId": "a52a5e37-43dd-4bc1-cf10-660052f65017"
      },
      "execution_count": 3,
      "outputs": [
        {
          "output_type": "stream",
          "name": "stdout",
          "text": [
            "Downloading data from https://www.cs.toronto.edu/~kriz/cifar-10-python.tar.gz\n",
            "170498071/170498071 [==============================] - 2s 0us/step\n"
          ]
        }
      ]
    },
    {
      "cell_type": "code",
      "source": [
        "num_classes = 10\n",
        "# y_train = keras.utils.to_categorical(y_train, num_classes)\n",
        "# y_test = keras.utils.to_categorical(y_test, num_classes)\n"
      ],
      "metadata": {
        "id": "UQ8pos3vtoWl"
      },
      "execution_count": 4,
      "outputs": []
    },
    {
      "cell_type": "code",
      "source": [
        "# datagen = ImageDataGenerator(rotation_range=40, width_shift_range=0.2, height_shift_range=0.2, zoom_range=0.2, horizontal_flip=True, vertical_flip=True)\n",
        "# datagen.fit(x_train)\n",
        "# num_augmented_samples = 2000\n",
        "# augmented_data = []\n",
        "# augmented_labels = []"
      ],
      "metadata": {
        "id": "FkzPT1g0ss7C"
      },
      "execution_count": null,
      "outputs": []
    },
    {
      "cell_type": "code",
      "source": [
        "# while len(augmented_data) < num_augmented_samples:\n",
        "#  batch_x, batch_y = datagen.flow(x_train, y_train, batch_size = num_augmented_samples - len(augmented_data)).next()\n",
        "#   augmented_data.extend(batch_x)\n",
        "#   augmented_labels.extend(batch_y)\n",
        "\n"
      ],
      "metadata": {
        "id": "8oR16tnJvEgs"
      },
      "execution_count": null,
      "outputs": []
    },
    {
      "cell_type": "code",
      "source": [
        "# Convert the lists to NumPy arrays\n",
        "# augmented_data = np.array(augmented_data)\n",
        "# augmented_labels = np.array(augmented_labels)\n",
        "\n",
        "# Concatenate the original training data with the augmented data\n",
        "# x_train_augmented = np.concatenate((x_train, augmented_data), axis=0)\n",
        "# y_train_augmented = np.concatenate((y_train, augmented_labels), axis=0)"
      ],
      "metadata": {
        "id": "i7_53rDDwgO8"
      },
      "execution_count": null,
      "outputs": []
    },
    {
      "cell_type": "markdown",
      "source": [
        "Normalizing the pixel values to the range [0, 1]"
      ],
      "metadata": {
        "id": "xuj4hFJT9Ffv"
      }
    },
    {
      "cell_type": "code",
      "source": [
        "import numpy as np\n",
        "np.shape(x_train)\n",
        "np.shape(x_test)"
      ],
      "metadata": {
        "colab": {
          "base_uri": "https://localhost:8080/"
        },
        "id": "04Bw3HQIybYp",
        "outputId": "00fc6128-684e-4f54-a106-326a546975c2"
      },
      "execution_count": 5,
      "outputs": [
        {
          "output_type": "execute_result",
          "data": {
            "text/plain": [
              "(10000, 32, 32, 3)"
            ]
          },
          "metadata": {},
          "execution_count": 5
        }
      ]
    },
    {
      "cell_type": "code",
      "source": [
        "x_train, x_test = x_train/255.0, x_test/225.0"
      ],
      "metadata": {
        "id": "bVQyF05D9Lol"
      },
      "execution_count": 6,
      "outputs": []
    },
    {
      "cell_type": "markdown",
      "source": [
        "Defining and Compiling the CNN Model"
      ],
      "metadata": {
        "id": "4Xbvjea19dKa"
      }
    },
    {
      "cell_type": "code",
      "source": [
        "from tensorflow.keras.layers import Activation\n",
        "\n",
        "def get_model():\n",
        "\n",
        "\n",
        "  model = keras.Sequential([\n",
        "      layers.Conv2D(32, (3, 3), input_shape = (32, 32, 3)),\n",
        "      BatchNormalization(),\n",
        "      Activation('relu'),\n",
        "      layers.MaxPooling2D(2, 2),\n",
        "      layers.Dropout(0.35),\n",
        "      layers.Conv2D(64, (3, 3)),\n",
        "      BatchNormalization(),\n",
        "      Activation('relu'),\n",
        "      layers.MaxPooling2D((2, 2)),\n",
        "      layers.Dropout(0.35),\n",
        "      layers.Conv2D(256, (3, 3)),\n",
        "      Activation('relu'),\n",
        "      layers.Dropout(0.35),\n",
        "      layers.Flatten(),\n",
        "      layers.Dense(64, activation='relu'),\n",
        "      layers.Dropout(0.35),\n",
        "      BatchNormalization(),\n",
        "      layers.Dense(10, activation='softmax'),\n",
        "  ])\n",
        "\n",
        "\n",
        "\n",
        "  # Define a learning rate schedule\n",
        "  learning_rate_schedule = tf.keras.optimizers.schedules.ExponentialDecay(\n",
        "      initial_learning_rate=0.01,\n",
        "      decay_steps=10000,\n",
        "      decay_rate=0.96\n",
        "  )\n",
        "\n",
        "  # Create an optimizer with the learning rate schedule\n",
        "  optimizer = tf.keras.optimizers.Adam(learning_rate=learning_rate_schedule)\n",
        "\n",
        "  model.compile(optimizer=optimizer, loss = 'sparse_categorical_crossentropy', metrics = ['accuracy'])\n",
        "\n",
        "  return model"
      ],
      "metadata": {
        "id": "J706D0LV9fNL"
      },
      "execution_count": 7,
      "outputs": []
    },
    {
      "cell_type": "markdown",
      "source": [
        "Train"
      ],
      "metadata": {
        "id": "ldR8Eop9Ht1Q"
      }
    },
    {
      "cell_type": "markdown",
      "source": [
        "Increasing Validation Accuracy:\n",
        "\n",
        "\n",
        "\n",
        "Batch Normalization: After the ReLUs of all convolutional layers.\n",
        "\n",
        "DropOut:\n",
        "\n",
        "Batch Size: 128.\n",
        "\n",
        "Initial Learning Rate: 0.01.\n",
        "\n",
        "Learning Rate Decay Scale: 0.1 , applied after [200, 250, 300] epochs.\n",
        "\n",
        "Initialization for convolutional layers: He Initialization.\n",
        "\n",
        "Weight Decay: L2-Regularization with scale=0.001."
      ],
      "metadata": {
        "id": "chCnjp2ir4UU"
      }
    },
    {
      "cell_type": "code",
      "source": [
        "from keras.api._v2.keras import callbacks\n",
        "\n",
        "from IPython.core import history\n",
        "\n",
        "\n",
        "with tf.device('/device:GPU:0'):\n",
        "  model = get_model()\n",
        "\n",
        "  history = model.fit(x_train, y_train, epochs=200, batch_size=32, validation_data=(x_test, y_test))\n",
        "\n",
        "\n",
        "model_path = '/content/drive/My Drive/Ronald/models/'\n",
        "model.save(model_path+'model_categories.h5')\n",
        "\n",
        "from matplotlib import pyplot as plt\n",
        "plt.plot(history.history['loss'], 'r', label = 'training loss')\n",
        "plt.plot(history.history['val_loss'], label = 'validation loss')\n",
        "\n",
        "plt.title('Model Loss')\n",
        "plt.ylabel('Loss')\n",
        "\n",
        "plt.xlabel('Epochs')\n",
        "plt.legend()\n",
        "plt.show()\n",
        "\n",
        "plt.plot(history.history['accuracy'], 'r', label = \"training accuracy\")\n",
        "plt.plot(history.history['val_accuracy'], label = \"validation accuracy\")\n",
        "\n",
        "plt.title(\"Model Accuracy\")\n",
        "plt.ylabel(\"Accuracy\")\n",
        "plt.xlabel(\"Epochs\")\n",
        "plt.legend()\n",
        "plt.show()\n"
      ],
      "metadata": {
        "colab": {
          "base_uri": "https://localhost:8080/",
          "height": 1000
        },
        "id": "1B75XZgUHuhi",
        "outputId": "fb866a22-1dde-4a4c-d4a2-85b59e91d0c6"
      },
      "execution_count": 8,
      "outputs": [
        {
          "output_type": "stream",
          "name": "stdout",
          "text": [
            "Epoch 1/200\n",
            "1563/1563 [==============================] - 26s 8ms/step - loss: 1.9723 - accuracy: 0.2459 - val_loss: 1.9156 - val_accuracy: 0.2888\n",
            "Epoch 2/200\n",
            "1563/1563 [==============================] - 11s 7ms/step - loss: 1.7456 - accuracy: 0.3417 - val_loss: 1.7525 - val_accuracy: 0.3497\n",
            "Epoch 3/200\n",
            "1563/1563 [==============================] - 11s 7ms/step - loss: 1.5979 - accuracy: 0.4076 - val_loss: 1.5720 - val_accuracy: 0.4470\n",
            "Epoch 4/200\n",
            "1563/1563 [==============================] - 11s 7ms/step - loss: 1.4914 - accuracy: 0.4593 - val_loss: 1.6964 - val_accuracy: 0.4526\n",
            "Epoch 5/200\n",
            "1563/1563 [==============================] - 12s 8ms/step - loss: 1.4079 - accuracy: 0.4913 - val_loss: 1.2260 - val_accuracy: 0.5748\n",
            "Epoch 6/200\n",
            "1563/1563 [==============================] - 12s 8ms/step - loss: 1.3510 - accuracy: 0.5193 - val_loss: 1.2640 - val_accuracy: 0.5472\n",
            "Epoch 7/200\n",
            "1563/1563 [==============================] - 11s 7ms/step - loss: 1.2949 - accuracy: 0.5425 - val_loss: 1.1952 - val_accuracy: 0.5819\n",
            "Epoch 8/200\n",
            "1563/1563 [==============================] - 11s 7ms/step - loss: 1.2374 - accuracy: 0.5653 - val_loss: 1.1455 - val_accuracy: 0.5933\n",
            "Epoch 9/200\n",
            "1563/1563 [==============================] - 11s 7ms/step - loss: 1.2014 - accuracy: 0.5811 - val_loss: 1.0468 - val_accuracy: 0.6266\n",
            "Epoch 10/200\n",
            "1563/1563 [==============================] - 12s 7ms/step - loss: 1.1630 - accuracy: 0.5971 - val_loss: 1.1971 - val_accuracy: 0.5606\n",
            "Epoch 11/200\n",
            "1563/1563 [==============================] - 12s 8ms/step - loss: 1.1306 - accuracy: 0.6107 - val_loss: 0.9813 - val_accuracy: 0.6664\n",
            "Epoch 12/200\n",
            "1563/1563 [==============================] - 12s 8ms/step - loss: 1.1035 - accuracy: 0.6222 - val_loss: 1.0116 - val_accuracy: 0.6467\n",
            "Epoch 13/200\n",
            "1563/1563 [==============================] - 12s 7ms/step - loss: 1.0804 - accuracy: 0.6293 - val_loss: 0.9267 - val_accuracy: 0.6768\n",
            "Epoch 14/200\n",
            "1563/1563 [==============================] - 12s 7ms/step - loss: 1.0589 - accuracy: 0.6374 - val_loss: 0.8737 - val_accuracy: 0.6994\n",
            "Epoch 15/200\n",
            "1563/1563 [==============================] - 12s 7ms/step - loss: 1.0477 - accuracy: 0.6400 - val_loss: 1.0161 - val_accuracy: 0.6508\n",
            "Epoch 16/200\n",
            "1563/1563 [==============================] - 11s 7ms/step - loss: 1.0203 - accuracy: 0.6499 - val_loss: 0.9131 - val_accuracy: 0.7056\n",
            "Epoch 17/200\n",
            "1563/1563 [==============================] - 12s 8ms/step - loss: 1.0121 - accuracy: 0.6575 - val_loss: 0.9632 - val_accuracy: 0.6694\n",
            "Epoch 18/200\n",
            "1563/1563 [==============================] - 11s 7ms/step - loss: 0.9982 - accuracy: 0.6587 - val_loss: 0.9497 - val_accuracy: 0.6675\n",
            "Epoch 19/200\n",
            "1563/1563 [==============================] - 10s 7ms/step - loss: 0.9823 - accuracy: 0.6670 - val_loss: 0.7774 - val_accuracy: 0.7374\n",
            "Epoch 20/200\n",
            "1563/1563 [==============================] - 12s 8ms/step - loss: 0.9709 - accuracy: 0.6708 - val_loss: 0.8124 - val_accuracy: 0.7155\n",
            "Epoch 21/200\n",
            "1563/1563 [==============================] - 11s 7ms/step - loss: 0.9565 - accuracy: 0.6769 - val_loss: 0.8065 - val_accuracy: 0.7197\n",
            "Epoch 22/200\n",
            "1563/1563 [==============================] - 11s 7ms/step - loss: 0.9478 - accuracy: 0.6792 - val_loss: 0.8257 - val_accuracy: 0.7115\n",
            "Epoch 23/200\n",
            "1563/1563 [==============================] - 12s 8ms/step - loss: 0.9333 - accuracy: 0.6805 - val_loss: 0.8562 - val_accuracy: 0.7087\n",
            "Epoch 24/200\n",
            "1563/1563 [==============================] - 11s 7ms/step - loss: 0.9211 - accuracy: 0.6866 - val_loss: 0.7090 - val_accuracy: 0.7612\n",
            "Epoch 25/200\n",
            "1563/1563 [==============================] - 11s 7ms/step - loss: 0.9125 - accuracy: 0.6892 - val_loss: 1.0042 - val_accuracy: 0.6649\n",
            "Epoch 26/200\n",
            "1563/1563 [==============================] - 11s 7ms/step - loss: 0.9042 - accuracy: 0.6948 - val_loss: 0.8069 - val_accuracy: 0.7267\n",
            "Epoch 27/200\n",
            "1563/1563 [==============================] - 11s 7ms/step - loss: 0.9044 - accuracy: 0.6938 - val_loss: 0.8766 - val_accuracy: 0.6943\n",
            "Epoch 28/200\n",
            "1563/1563 [==============================] - 12s 8ms/step - loss: 0.8954 - accuracy: 0.6965 - val_loss: 0.8554 - val_accuracy: 0.7097\n",
            "Epoch 29/200\n",
            "1563/1563 [==============================] - 11s 7ms/step - loss: 0.8848 - accuracy: 0.7010 - val_loss: 0.7617 - val_accuracy: 0.7385\n",
            "Epoch 30/200\n",
            "1563/1563 [==============================] - 12s 8ms/step - loss: 0.8742 - accuracy: 0.7056 - val_loss: 0.7844 - val_accuracy: 0.7407\n",
            "Epoch 31/200\n",
            "1563/1563 [==============================] - 11s 7ms/step - loss: 0.8741 - accuracy: 0.7036 - val_loss: 0.8549 - val_accuracy: 0.7061\n",
            "Epoch 32/200\n",
            "1563/1563 [==============================] - 12s 8ms/step - loss: 0.8602 - accuracy: 0.7085 - val_loss: 0.7309 - val_accuracy: 0.7499\n",
            "Epoch 33/200\n",
            "1563/1563 [==============================] - 12s 8ms/step - loss: 0.8518 - accuracy: 0.7123 - val_loss: 0.7255 - val_accuracy: 0.7578\n",
            "Epoch 34/200\n",
            "1563/1563 [==============================] - 11s 7ms/step - loss: 0.8420 - accuracy: 0.7171 - val_loss: 0.7809 - val_accuracy: 0.7295\n",
            "Epoch 35/200\n",
            "1563/1563 [==============================] - 12s 7ms/step - loss: 0.8396 - accuracy: 0.7167 - val_loss: 0.7269 - val_accuracy: 0.7539\n",
            "Epoch 36/200\n",
            "1563/1563 [==============================] - 11s 7ms/step - loss: 0.8468 - accuracy: 0.7123 - val_loss: 0.6946 - val_accuracy: 0.7640\n",
            "Epoch 37/200\n",
            "1563/1563 [==============================] - 11s 7ms/step - loss: 0.8306 - accuracy: 0.7205 - val_loss: 0.8614 - val_accuracy: 0.7043\n",
            "Epoch 38/200\n",
            "1563/1563 [==============================] - 12s 7ms/step - loss: 0.8290 - accuracy: 0.7179 - val_loss: 0.7151 - val_accuracy: 0.7626\n",
            "Epoch 39/200\n",
            "1563/1563 [==============================] - 11s 7ms/step - loss: 0.8215 - accuracy: 0.7212 - val_loss: 0.6781 - val_accuracy: 0.7743\n",
            "Epoch 40/200\n",
            "1563/1563 [==============================] - 11s 7ms/step - loss: 0.8216 - accuracy: 0.7242 - val_loss: 0.6910 - val_accuracy: 0.7716\n",
            "Epoch 41/200\n",
            "1563/1563 [==============================] - 11s 7ms/step - loss: 0.8085 - accuracy: 0.7266 - val_loss: 0.8003 - val_accuracy: 0.7237\n",
            "Epoch 42/200\n",
            "1563/1563 [==============================] - 11s 7ms/step - loss: 0.8097 - accuracy: 0.7288 - val_loss: 0.6643 - val_accuracy: 0.7746\n",
            "Epoch 43/200\n",
            "1563/1563 [==============================] - 11s 7ms/step - loss: 0.8190 - accuracy: 0.7227 - val_loss: 0.7749 - val_accuracy: 0.7334\n",
            "Epoch 44/200\n",
            "1563/1563 [==============================] - 11s 7ms/step - loss: 0.8010 - accuracy: 0.7299 - val_loss: 0.7665 - val_accuracy: 0.7396\n",
            "Epoch 45/200\n",
            "1563/1563 [==============================] - 12s 8ms/step - loss: 0.7951 - accuracy: 0.7332 - val_loss: 0.6660 - val_accuracy: 0.7735\n",
            "Epoch 46/200\n",
            "1563/1563 [==============================] - 12s 8ms/step - loss: 0.7970 - accuracy: 0.7319 - val_loss: 0.6400 - val_accuracy: 0.7873\n",
            "Epoch 47/200\n",
            "1563/1563 [==============================] - 12s 7ms/step - loss: 0.7894 - accuracy: 0.7338 - val_loss: 0.6373 - val_accuracy: 0.7845\n",
            "Epoch 48/200\n",
            "1563/1563 [==============================] - 11s 7ms/step - loss: 0.7889 - accuracy: 0.7346 - val_loss: 0.7341 - val_accuracy: 0.7479\n",
            "Epoch 49/200\n",
            "1563/1563 [==============================] - 11s 7ms/step - loss: 0.7808 - accuracy: 0.7365 - val_loss: 0.6847 - val_accuracy: 0.7684\n",
            "Epoch 50/200\n",
            "1563/1563 [==============================] - 11s 7ms/step - loss: 0.7846 - accuracy: 0.7351 - val_loss: 0.6902 - val_accuracy: 0.7571\n",
            "Epoch 51/200\n",
            "1563/1563 [==============================] - 12s 7ms/step - loss: 0.7816 - accuracy: 0.7340 - val_loss: 0.6498 - val_accuracy: 0.7775\n",
            "Epoch 52/200\n",
            "1563/1563 [==============================] - 11s 7ms/step - loss: 0.7775 - accuracy: 0.7366 - val_loss: 0.6760 - val_accuracy: 0.7700\n",
            "Epoch 53/200\n",
            "1563/1563 [==============================] - 11s 7ms/step - loss: 0.7655 - accuracy: 0.7383 - val_loss: 0.6291 - val_accuracy: 0.7878\n",
            "Epoch 54/200\n",
            "1563/1563 [==============================] - 11s 7ms/step - loss: 0.7662 - accuracy: 0.7412 - val_loss: 0.6595 - val_accuracy: 0.7730\n",
            "Epoch 55/200\n",
            "1563/1563 [==============================] - 11s 7ms/step - loss: 0.7676 - accuracy: 0.7390 - val_loss: 0.6542 - val_accuracy: 0.7773\n",
            "Epoch 56/200\n",
            "1563/1563 [==============================] - 11s 7ms/step - loss: 0.7689 - accuracy: 0.7399 - val_loss: 0.6468 - val_accuracy: 0.7832\n",
            "Epoch 57/200\n",
            "1563/1563 [==============================] - 11s 7ms/step - loss: 0.7623 - accuracy: 0.7417 - val_loss: 0.6333 - val_accuracy: 0.7899\n",
            "Epoch 58/200\n",
            "1563/1563 [==============================] - 11s 7ms/step - loss: 0.7589 - accuracy: 0.7440 - val_loss: 0.6207 - val_accuracy: 0.7924\n",
            "Epoch 59/200\n",
            "1563/1563 [==============================] - 11s 7ms/step - loss: 0.7565 - accuracy: 0.7440 - val_loss: 0.6547 - val_accuracy: 0.7796\n",
            "Epoch 60/200\n",
            "1563/1563 [==============================] - 12s 8ms/step - loss: 0.7513 - accuracy: 0.7454 - val_loss: 0.6646 - val_accuracy: 0.7758\n",
            "Epoch 61/200\n",
            "1563/1563 [==============================] - 11s 7ms/step - loss: 0.7526 - accuracy: 0.7450 - val_loss: 0.6563 - val_accuracy: 0.7739\n",
            "Epoch 62/200\n",
            "1563/1563 [==============================] - 12s 8ms/step - loss: 0.7510 - accuracy: 0.7449 - val_loss: 0.6021 - val_accuracy: 0.7922\n",
            "Epoch 63/200\n",
            "1563/1563 [==============================] - 13s 8ms/step - loss: 0.7505 - accuracy: 0.7468 - val_loss: 0.7280 - val_accuracy: 0.7537\n",
            "Epoch 64/200\n",
            "1563/1563 [==============================] - 11s 7ms/step - loss: 0.7446 - accuracy: 0.7479 - val_loss: 0.6717 - val_accuracy: 0.7706\n",
            "Epoch 65/200\n",
            "1563/1563 [==============================] - 11s 7ms/step - loss: 0.7347 - accuracy: 0.7514 - val_loss: 0.6364 - val_accuracy: 0.7806\n",
            "Epoch 66/200\n",
            "1563/1563 [==============================] - 12s 8ms/step - loss: 0.7356 - accuracy: 0.7500 - val_loss: 0.6509 - val_accuracy: 0.7806\n",
            "Epoch 67/200\n",
            "1563/1563 [==============================] - 11s 7ms/step - loss: 0.7323 - accuracy: 0.7514 - val_loss: 0.6576 - val_accuracy: 0.7762\n",
            "Epoch 68/200\n",
            "1563/1563 [==============================] - 12s 7ms/step - loss: 0.7303 - accuracy: 0.7521 - val_loss: 0.6177 - val_accuracy: 0.7894\n",
            "Epoch 69/200\n",
            "1563/1563 [==============================] - 11s 7ms/step - loss: 0.7342 - accuracy: 0.7498 - val_loss: 0.6120 - val_accuracy: 0.7909\n",
            "Epoch 70/200\n",
            "1563/1563 [==============================] - 11s 7ms/step - loss: 0.7307 - accuracy: 0.7516 - val_loss: 0.6090 - val_accuracy: 0.7963\n",
            "Epoch 71/200\n",
            "1563/1563 [==============================] - 11s 7ms/step - loss: 0.7300 - accuracy: 0.7531 - val_loss: 0.6653 - val_accuracy: 0.7740\n",
            "Epoch 72/200\n",
            "1563/1563 [==============================] - 12s 8ms/step - loss: 0.7258 - accuracy: 0.7551 - val_loss: 0.6414 - val_accuracy: 0.7843\n",
            "Epoch 73/200\n",
            "1563/1563 [==============================] - 11s 7ms/step - loss: 0.7280 - accuracy: 0.7554 - val_loss: 0.6361 - val_accuracy: 0.7804\n",
            "Epoch 74/200\n",
            "1563/1563 [==============================] - 11s 7ms/step - loss: 0.7207 - accuracy: 0.7547 - val_loss: 0.6108 - val_accuracy: 0.7942\n",
            "Epoch 75/200\n",
            "1563/1563 [==============================] - 11s 7ms/step - loss: 0.7262 - accuracy: 0.7533 - val_loss: 0.6048 - val_accuracy: 0.7963\n",
            "Epoch 76/200\n",
            "1563/1563 [==============================] - 11s 7ms/step - loss: 0.7131 - accuracy: 0.7595 - val_loss: 0.5931 - val_accuracy: 0.7998\n",
            "Epoch 77/200\n",
            "1563/1563 [==============================] - 11s 7ms/step - loss: 0.7145 - accuracy: 0.7588 - val_loss: 0.6088 - val_accuracy: 0.7956\n",
            "Epoch 78/200\n",
            "1563/1563 [==============================] - 11s 7ms/step - loss: 0.7085 - accuracy: 0.7596 - val_loss: 0.5891 - val_accuracy: 0.8005\n",
            "Epoch 79/200\n",
            "1563/1563 [==============================] - 11s 7ms/step - loss: 0.7091 - accuracy: 0.7595 - val_loss: 0.5951 - val_accuracy: 0.7957\n",
            "Epoch 80/200\n",
            "1563/1563 [==============================] - 12s 8ms/step - loss: 0.7122 - accuracy: 0.7619 - val_loss: 0.6195 - val_accuracy: 0.7888\n",
            "Epoch 81/200\n",
            "1563/1563 [==============================] - 12s 7ms/step - loss: 0.7073 - accuracy: 0.7607 - val_loss: 0.5782 - val_accuracy: 0.8014\n",
            "Epoch 82/200\n",
            "1563/1563 [==============================] - 11s 7ms/step - loss: 0.7012 - accuracy: 0.7634 - val_loss: 0.6260 - val_accuracy: 0.7882\n",
            "Epoch 83/200\n",
            "1563/1563 [==============================] - 11s 7ms/step - loss: 0.7059 - accuracy: 0.7602 - val_loss: 0.6044 - val_accuracy: 0.7940\n",
            "Epoch 84/200\n",
            "1563/1563 [==============================] - 11s 7ms/step - loss: 0.7029 - accuracy: 0.7613 - val_loss: 0.6280 - val_accuracy: 0.7883\n",
            "Epoch 85/200\n",
            "1563/1563 [==============================] - 11s 7ms/step - loss: 0.7054 - accuracy: 0.7611 - val_loss: 0.6116 - val_accuracy: 0.7881\n",
            "Epoch 86/200\n",
            "1563/1563 [==============================] - 11s 7ms/step - loss: 0.7053 - accuracy: 0.7620 - val_loss: 0.6511 - val_accuracy: 0.7793\n",
            "Epoch 87/200\n",
            "1563/1563 [==============================] - 12s 8ms/step - loss: 0.7049 - accuracy: 0.7614 - val_loss: 0.5895 - val_accuracy: 0.7973\n",
            "Epoch 88/200\n",
            "1563/1563 [==============================] - 12s 8ms/step - loss: 0.6908 - accuracy: 0.7643 - val_loss: 0.6477 - val_accuracy: 0.7785\n",
            "Epoch 89/200\n",
            "1563/1563 [==============================] - 11s 7ms/step - loss: 0.6934 - accuracy: 0.7653 - val_loss: 0.6286 - val_accuracy: 0.7851\n",
            "Epoch 90/200\n",
            "1563/1563 [==============================] - 12s 8ms/step - loss: 0.6949 - accuracy: 0.7629 - val_loss: 0.6274 - val_accuracy: 0.7846\n",
            "Epoch 91/200\n",
            "1563/1563 [==============================] - 11s 7ms/step - loss: 0.6894 - accuracy: 0.7670 - val_loss: 0.7090 - val_accuracy: 0.7566\n",
            "Epoch 92/200\n",
            "1563/1563 [==============================] - 11s 7ms/step - loss: 0.6922 - accuracy: 0.7649 - val_loss: 0.5997 - val_accuracy: 0.7961\n",
            "Epoch 93/200\n",
            "1563/1563 [==============================] - 12s 8ms/step - loss: 0.6856 - accuracy: 0.7656 - val_loss: 0.6099 - val_accuracy: 0.7926\n",
            "Epoch 94/200\n",
            "1563/1563 [==============================] - 11s 7ms/step - loss: 0.6884 - accuracy: 0.7664 - val_loss: 0.5850 - val_accuracy: 0.7971\n",
            "Epoch 95/200\n",
            "1563/1563 [==============================] - 11s 7ms/step - loss: 0.6875 - accuracy: 0.7668 - val_loss: 0.6132 - val_accuracy: 0.7949\n",
            "Epoch 96/200\n",
            "1563/1563 [==============================] - 12s 8ms/step - loss: 0.6849 - accuracy: 0.7675 - val_loss: 0.6249 - val_accuracy: 0.7900\n",
            "Epoch 97/200\n",
            "1563/1563 [==============================] - 12s 7ms/step - loss: 0.6827 - accuracy: 0.7688 - val_loss: 0.5821 - val_accuracy: 0.8005\n",
            "Epoch 98/200\n",
            "1563/1563 [==============================] - 11s 7ms/step - loss: 0.6823 - accuracy: 0.7696 - val_loss: 0.5998 - val_accuracy: 0.7974\n",
            "Epoch 99/200\n",
            "1563/1563 [==============================] - 12s 8ms/step - loss: 0.6851 - accuracy: 0.7678 - val_loss: 0.6257 - val_accuracy: 0.7898\n",
            "Epoch 100/200\n",
            "1563/1563 [==============================] - 11s 7ms/step - loss: 0.6783 - accuracy: 0.7700 - val_loss: 0.5871 - val_accuracy: 0.8010\n",
            "Epoch 101/200\n",
            "1563/1563 [==============================] - 11s 7ms/step - loss: 0.6859 - accuracy: 0.7669 - val_loss: 0.5710 - val_accuracy: 0.8059\n",
            "Epoch 102/200\n",
            "1563/1563 [==============================] - 11s 7ms/step - loss: 0.6738 - accuracy: 0.7706 - val_loss: 0.6042 - val_accuracy: 0.7954\n",
            "Epoch 103/200\n",
            "1563/1563 [==============================] - 11s 7ms/step - loss: 0.6751 - accuracy: 0.7708 - val_loss: 0.5853 - val_accuracy: 0.8039\n",
            "Epoch 104/200\n",
            "1563/1563 [==============================] - 12s 8ms/step - loss: 0.6733 - accuracy: 0.7709 - val_loss: 0.5746 - val_accuracy: 0.8056\n",
            "Epoch 105/200\n",
            "1563/1563 [==============================] - 11s 7ms/step - loss: 0.6714 - accuracy: 0.7701 - val_loss: 0.6096 - val_accuracy: 0.7884\n",
            "Epoch 106/200\n",
            "1563/1563 [==============================] - 12s 8ms/step - loss: 0.6760 - accuracy: 0.7718 - val_loss: 0.5760 - val_accuracy: 0.8033\n",
            "Epoch 107/200\n",
            "1563/1563 [==============================] - 12s 8ms/step - loss: 0.6738 - accuracy: 0.7741 - val_loss: 0.5834 - val_accuracy: 0.8012\n",
            "Epoch 108/200\n",
            "1563/1563 [==============================] - 11s 7ms/step - loss: 0.6719 - accuracy: 0.7747 - val_loss: 0.5926 - val_accuracy: 0.7992\n",
            "Epoch 109/200\n",
            "1563/1563 [==============================] - 11s 7ms/step - loss: 0.6746 - accuracy: 0.7716 - val_loss: 0.5809 - val_accuracy: 0.8029\n",
            "Epoch 110/200\n",
            "1563/1563 [==============================] - 12s 7ms/step - loss: 0.6633 - accuracy: 0.7767 - val_loss: 0.5649 - val_accuracy: 0.8093\n",
            "Epoch 111/200\n",
            "1563/1563 [==============================] - 12s 8ms/step - loss: 0.6604 - accuracy: 0.7741 - val_loss: 0.5726 - val_accuracy: 0.8053\n",
            "Epoch 112/200\n",
            "1563/1563 [==============================] - 12s 7ms/step - loss: 0.6645 - accuracy: 0.7756 - val_loss: 0.5682 - val_accuracy: 0.8055\n",
            "Epoch 113/200\n",
            "1563/1563 [==============================] - 13s 8ms/step - loss: 0.6619 - accuracy: 0.7756 - val_loss: 0.6403 - val_accuracy: 0.7780\n",
            "Epoch 114/200\n",
            "1563/1563 [==============================] - 11s 7ms/step - loss: 0.6645 - accuracy: 0.7749 - val_loss: 0.5964 - val_accuracy: 0.7960\n",
            "Epoch 115/200\n",
            "1563/1563 [==============================] - 11s 7ms/step - loss: 0.6650 - accuracy: 0.7744 - val_loss: 0.5857 - val_accuracy: 0.7991\n",
            "Epoch 116/200\n",
            "1563/1563 [==============================] - 12s 7ms/step - loss: 0.6738 - accuracy: 0.7720 - val_loss: 0.5867 - val_accuracy: 0.8021\n",
            "Epoch 117/200\n",
            "1563/1563 [==============================] - 11s 7ms/step - loss: 0.6661 - accuracy: 0.7756 - val_loss: 0.5625 - val_accuracy: 0.8075\n",
            "Epoch 118/200\n",
            "1563/1563 [==============================] - 11s 7ms/step - loss: 0.6565 - accuracy: 0.7771 - val_loss: 0.6094 - val_accuracy: 0.7885\n",
            "Epoch 119/200\n",
            "1563/1563 [==============================] - 11s 7ms/step - loss: 0.6537 - accuracy: 0.7776 - val_loss: 0.5545 - val_accuracy: 0.8112\n",
            "Epoch 120/200\n",
            "1563/1563 [==============================] - 11s 7ms/step - loss: 0.6567 - accuracy: 0.7757 - val_loss: 0.5897 - val_accuracy: 0.7983\n",
            "Epoch 121/200\n",
            "1563/1563 [==============================] - 11s 7ms/step - loss: 0.6570 - accuracy: 0.7759 - val_loss: 0.5814 - val_accuracy: 0.8030\n",
            "Epoch 122/200\n",
            "1563/1563 [==============================] - 12s 7ms/step - loss: 0.6475 - accuracy: 0.7793 - val_loss: 0.5805 - val_accuracy: 0.8045\n",
            "Epoch 123/200\n",
            "1563/1563 [==============================] - 12s 8ms/step - loss: 0.6569 - accuracy: 0.7770 - val_loss: 0.5548 - val_accuracy: 0.8111\n",
            "Epoch 124/200\n",
            "1563/1563 [==============================] - 11s 7ms/step - loss: 0.6613 - accuracy: 0.7766 - val_loss: 0.5510 - val_accuracy: 0.8138\n",
            "Epoch 125/200\n",
            "1563/1563 [==============================] - 11s 7ms/step - loss: 0.6491 - accuracy: 0.7804 - val_loss: 0.5593 - val_accuracy: 0.8111\n",
            "Epoch 126/200\n",
            "1563/1563 [==============================] - 11s 7ms/step - loss: 0.6548 - accuracy: 0.7779 - val_loss: 0.5777 - val_accuracy: 0.8025\n",
            "Epoch 127/200\n",
            "1563/1563 [==============================] - 11s 7ms/step - loss: 0.6540 - accuracy: 0.7784 - val_loss: 0.5702 - val_accuracy: 0.8069\n",
            "Epoch 128/200\n",
            "1563/1563 [==============================] - 12s 7ms/step - loss: 0.6465 - accuracy: 0.7810 - val_loss: 0.5668 - val_accuracy: 0.8095\n",
            "Epoch 129/200\n",
            "1563/1563 [==============================] - 12s 8ms/step - loss: 0.6536 - accuracy: 0.7798 - val_loss: 0.5657 - val_accuracy: 0.8089\n",
            "Epoch 130/200\n",
            "1563/1563 [==============================] - 13s 8ms/step - loss: 0.6571 - accuracy: 0.7780 - val_loss: 0.5989 - val_accuracy: 0.7971\n",
            "Epoch 131/200\n",
            "1563/1563 [==============================] - 12s 8ms/step - loss: 0.6554 - accuracy: 0.7782 - val_loss: 0.5807 - val_accuracy: 0.7992\n",
            "Epoch 132/200\n",
            "1563/1563 [==============================] - 11s 7ms/step - loss: 0.6486 - accuracy: 0.7801 - val_loss: 0.5736 - val_accuracy: 0.8077\n",
            "Epoch 133/200\n",
            "1563/1563 [==============================] - 12s 7ms/step - loss: 0.6511 - accuracy: 0.7801 - val_loss: 0.5749 - val_accuracy: 0.8060\n",
            "Epoch 134/200\n",
            "1563/1563 [==============================] - 12s 8ms/step - loss: 0.6531 - accuracy: 0.7780 - val_loss: 0.5623 - val_accuracy: 0.8124\n",
            "Epoch 135/200\n",
            "1563/1563 [==============================] - 11s 7ms/step - loss: 0.6479 - accuracy: 0.7794 - val_loss: 0.5737 - val_accuracy: 0.8012\n",
            "Epoch 136/200\n",
            "1563/1563 [==============================] - 11s 7ms/step - loss: 0.6509 - accuracy: 0.7792 - val_loss: 0.5797 - val_accuracy: 0.8017\n",
            "Epoch 137/200\n",
            "1563/1563 [==============================] - 12s 8ms/step - loss: 0.6441 - accuracy: 0.7809 - val_loss: 0.5796 - val_accuracy: 0.8019\n",
            "Epoch 138/200\n",
            "1563/1563 [==============================] - 11s 7ms/step - loss: 0.6449 - accuracy: 0.7795 - val_loss: 0.5629 - val_accuracy: 0.8076\n",
            "Epoch 139/200\n",
            "1563/1563 [==============================] - 11s 7ms/step - loss: 0.6397 - accuracy: 0.7824 - val_loss: 0.5775 - val_accuracy: 0.8030\n",
            "Epoch 140/200\n",
            "1563/1563 [==============================] - 12s 8ms/step - loss: 0.6373 - accuracy: 0.7811 - val_loss: 0.5600 - val_accuracy: 0.8095\n",
            "Epoch 141/200\n",
            "1563/1563 [==============================] - 11s 7ms/step - loss: 0.6471 - accuracy: 0.7789 - val_loss: 0.5781 - val_accuracy: 0.7997\n",
            "Epoch 142/200\n",
            "1563/1563 [==============================] - 12s 7ms/step - loss: 0.6413 - accuracy: 0.7817 - val_loss: 0.5555 - val_accuracy: 0.8136\n",
            "Epoch 143/200\n",
            "1563/1563 [==============================] - 11s 7ms/step - loss: 0.6379 - accuracy: 0.7815 - val_loss: 0.5645 - val_accuracy: 0.8083\n",
            "Epoch 144/200\n",
            "1563/1563 [==============================] - 11s 7ms/step - loss: 0.6390 - accuracy: 0.7823 - val_loss: 0.5948 - val_accuracy: 0.7956\n",
            "Epoch 145/200\n",
            "1563/1563 [==============================] - 12s 7ms/step - loss: 0.6388 - accuracy: 0.7833 - val_loss: 0.5766 - val_accuracy: 0.8016\n",
            "Epoch 146/200\n",
            "1563/1563 [==============================] - 13s 8ms/step - loss: 0.6408 - accuracy: 0.7819 - val_loss: 0.5727 - val_accuracy: 0.8090\n",
            "Epoch 147/200\n",
            "1563/1563 [==============================] - 12s 8ms/step - loss: 0.6380 - accuracy: 0.7835 - val_loss: 0.5789 - val_accuracy: 0.8074\n",
            "Epoch 148/200\n",
            "1563/1563 [==============================] - 12s 8ms/step - loss: 0.6334 - accuracy: 0.7842 - val_loss: 0.5472 - val_accuracy: 0.8146\n",
            "Epoch 149/200\n",
            "1563/1563 [==============================] - 12s 8ms/step - loss: 0.6372 - accuracy: 0.7827 - val_loss: 0.6055 - val_accuracy: 0.7902\n",
            "Epoch 150/200\n",
            "1563/1563 [==============================] - 11s 7ms/step - loss: 0.6415 - accuracy: 0.7831 - val_loss: 0.5374 - val_accuracy: 0.8172\n",
            "Epoch 151/200\n",
            "1563/1563 [==============================] - 12s 7ms/step - loss: 0.6354 - accuracy: 0.7845 - val_loss: 0.5892 - val_accuracy: 0.8018\n",
            "Epoch 152/200\n",
            "1563/1563 [==============================] - 12s 8ms/step - loss: 0.6349 - accuracy: 0.7845 - val_loss: 0.5546 - val_accuracy: 0.8109\n",
            "Epoch 153/200\n",
            "1563/1563 [==============================] - 12s 8ms/step - loss: 0.6322 - accuracy: 0.7855 - val_loss: 0.5544 - val_accuracy: 0.8134\n",
            "Epoch 154/200\n",
            "1563/1563 [==============================] - 12s 7ms/step - loss: 0.6340 - accuracy: 0.7841 - val_loss: 0.5383 - val_accuracy: 0.8192\n",
            "Epoch 155/200\n",
            "1563/1563 [==============================] - 12s 8ms/step - loss: 0.6288 - accuracy: 0.7840 - val_loss: 0.5513 - val_accuracy: 0.8124\n",
            "Epoch 156/200\n",
            "1563/1563 [==============================] - 11s 7ms/step - loss: 0.6306 - accuracy: 0.7870 - val_loss: 0.5924 - val_accuracy: 0.7976\n",
            "Epoch 157/200\n",
            "1563/1563 [==============================] - 11s 7ms/step - loss: 0.6321 - accuracy: 0.7855 - val_loss: 0.5467 - val_accuracy: 0.8151\n",
            "Epoch 158/200\n",
            "1563/1563 [==============================] - 12s 8ms/step - loss: 0.6314 - accuracy: 0.7824 - val_loss: 0.5575 - val_accuracy: 0.8118\n",
            "Epoch 159/200\n",
            "1563/1563 [==============================] - 12s 8ms/step - loss: 0.6268 - accuracy: 0.7890 - val_loss: 0.5411 - val_accuracy: 0.8153\n",
            "Epoch 160/200\n",
            "1563/1563 [==============================] - 12s 8ms/step - loss: 0.6288 - accuracy: 0.7858 - val_loss: 0.5548 - val_accuracy: 0.8131\n",
            "Epoch 161/200\n",
            "1563/1563 [==============================] - 11s 7ms/step - loss: 0.6270 - accuracy: 0.7855 - val_loss: 0.5623 - val_accuracy: 0.8068\n",
            "Epoch 162/200\n",
            "1563/1563 [==============================] - 12s 8ms/step - loss: 0.6285 - accuracy: 0.7873 - val_loss: 0.5584 - val_accuracy: 0.8125\n",
            "Epoch 163/200\n",
            "1563/1563 [==============================] - 11s 7ms/step - loss: 0.6232 - accuracy: 0.7861 - val_loss: 0.5404 - val_accuracy: 0.8202\n",
            "Epoch 164/200\n",
            "1563/1563 [==============================] - 11s 7ms/step - loss: 0.6305 - accuracy: 0.7880 - val_loss: 0.5484 - val_accuracy: 0.8183\n",
            "Epoch 165/200\n",
            "1563/1563 [==============================] - 12s 8ms/step - loss: 0.6243 - accuracy: 0.7872 - val_loss: 0.5749 - val_accuracy: 0.8034\n",
            "Epoch 166/200\n",
            "1563/1563 [==============================] - 11s 7ms/step - loss: 0.6238 - accuracy: 0.7872 - val_loss: 0.5564 - val_accuracy: 0.8121\n",
            "Epoch 167/200\n",
            "1563/1563 [==============================] - 12s 8ms/step - loss: 0.6264 - accuracy: 0.7860 - val_loss: 0.5611 - val_accuracy: 0.8081\n",
            "Epoch 168/200\n",
            "1563/1563 [==============================] - 11s 7ms/step - loss: 0.6247 - accuracy: 0.7885 - val_loss: 0.5401 - val_accuracy: 0.8176\n",
            "Epoch 169/200\n",
            "1563/1563 [==============================] - 12s 7ms/step - loss: 0.6207 - accuracy: 0.7886 - val_loss: 0.5473 - val_accuracy: 0.8148\n",
            "Epoch 170/200\n",
            "1563/1563 [==============================] - 11s 7ms/step - loss: 0.6268 - accuracy: 0.7878 - val_loss: 0.5667 - val_accuracy: 0.8054\n",
            "Epoch 171/200\n",
            "1563/1563 [==============================] - 12s 8ms/step - loss: 0.6201 - accuracy: 0.7899 - val_loss: 0.5632 - val_accuracy: 0.8068\n",
            "Epoch 172/200\n",
            "1563/1563 [==============================] - 12s 7ms/step - loss: 0.6230 - accuracy: 0.7887 - val_loss: 0.5609 - val_accuracy: 0.8084\n",
            "Epoch 173/200\n",
            "1563/1563 [==============================] - 12s 7ms/step - loss: 0.6225 - accuracy: 0.7888 - val_loss: 0.5464 - val_accuracy: 0.8153\n",
            "Epoch 174/200\n",
            "1563/1563 [==============================] - 11s 7ms/step - loss: 0.6228 - accuracy: 0.7889 - val_loss: 0.5643 - val_accuracy: 0.8091\n",
            "Epoch 175/200\n",
            "1563/1563 [==============================] - 11s 7ms/step - loss: 0.6170 - accuracy: 0.7892 - val_loss: 0.5676 - val_accuracy: 0.8077\n",
            "Epoch 176/200\n",
            "1563/1563 [==============================] - 12s 8ms/step - loss: 0.6152 - accuracy: 0.7904 - val_loss: 0.5484 - val_accuracy: 0.8120\n",
            "Epoch 177/200\n",
            "1563/1563 [==============================] - 11s 7ms/step - loss: 0.6135 - accuracy: 0.7911 - val_loss: 0.5413 - val_accuracy: 0.8157\n",
            "Epoch 178/200\n",
            "1563/1563 [==============================] - 14s 9ms/step - loss: 0.6243 - accuracy: 0.7875 - val_loss: 0.5652 - val_accuracy: 0.8086\n",
            "Epoch 179/200\n",
            "1563/1563 [==============================] - 12s 7ms/step - loss: 0.6115 - accuracy: 0.7901 - val_loss: 0.5496 - val_accuracy: 0.8163\n",
            "Epoch 180/200\n",
            "1563/1563 [==============================] - 11s 7ms/step - loss: 0.6134 - accuracy: 0.7925 - val_loss: 0.5631 - val_accuracy: 0.8091\n",
            "Epoch 181/200\n",
            "1563/1563 [==============================] - 11s 7ms/step - loss: 0.6183 - accuracy: 0.7878 - val_loss: 0.5390 - val_accuracy: 0.8207\n",
            "Epoch 182/200\n",
            "1563/1563 [==============================] - 12s 8ms/step - loss: 0.6120 - accuracy: 0.7909 - val_loss: 0.5332 - val_accuracy: 0.8232\n",
            "Epoch 183/200\n",
            "1563/1563 [==============================] - 12s 8ms/step - loss: 0.6164 - accuracy: 0.7906 - val_loss: 0.5714 - val_accuracy: 0.8061\n",
            "Epoch 184/200\n",
            "1563/1563 [==============================] - 12s 7ms/step - loss: 0.6207 - accuracy: 0.7894 - val_loss: 0.5424 - val_accuracy: 0.8188\n",
            "Epoch 185/200\n",
            "1563/1563 [==============================] - 11s 7ms/step - loss: 0.6136 - accuracy: 0.7920 - val_loss: 0.5376 - val_accuracy: 0.8215\n",
            "Epoch 186/200\n",
            "1563/1563 [==============================] - 11s 7ms/step - loss: 0.6115 - accuracy: 0.7901 - val_loss: 0.5534 - val_accuracy: 0.8120\n",
            "Epoch 187/200\n",
            "1563/1563 [==============================] - 11s 7ms/step - loss: 0.6106 - accuracy: 0.7925 - val_loss: 0.5436 - val_accuracy: 0.8154\n",
            "Epoch 188/200\n",
            "1563/1563 [==============================] - 12s 7ms/step - loss: 0.6106 - accuracy: 0.7918 - val_loss: 0.5555 - val_accuracy: 0.8114\n",
            "Epoch 189/200\n",
            "1563/1563 [==============================] - 12s 8ms/step - loss: 0.6175 - accuracy: 0.7896 - val_loss: 0.5500 - val_accuracy: 0.8161\n",
            "Epoch 190/200\n",
            "1563/1563 [==============================] - 12s 8ms/step - loss: 0.6058 - accuracy: 0.7930 - val_loss: 0.5416 - val_accuracy: 0.8180\n",
            "Epoch 191/200\n",
            "1563/1563 [==============================] - 11s 7ms/step - loss: 0.6078 - accuracy: 0.7916 - val_loss: 0.5324 - val_accuracy: 0.8191\n",
            "Epoch 192/200\n",
            "1563/1563 [==============================] - 12s 7ms/step - loss: 0.6087 - accuracy: 0.7916 - val_loss: 0.5314 - val_accuracy: 0.8203\n",
            "Epoch 193/200\n",
            "1563/1563 [==============================] - 12s 8ms/step - loss: 0.6098 - accuracy: 0.7918 - val_loss: 0.5880 - val_accuracy: 0.7986\n",
            "Epoch 194/200\n",
            "1563/1563 [==============================] - 13s 8ms/step - loss: 0.6211 - accuracy: 0.7898 - val_loss: 0.5379 - val_accuracy: 0.8230\n",
            "Epoch 195/200\n",
            "1563/1563 [==============================] - 12s 8ms/step - loss: 0.6093 - accuracy: 0.7922 - val_loss: 0.5704 - val_accuracy: 0.8013\n",
            "Epoch 196/200\n",
            "1563/1563 [==============================] - 12s 7ms/step - loss: 0.6115 - accuracy: 0.7921 - val_loss: 0.5364 - val_accuracy: 0.8204\n",
            "Epoch 197/200\n",
            "1563/1563 [==============================] - 12s 7ms/step - loss: 0.6124 - accuracy: 0.7911 - val_loss: 0.5389 - val_accuracy: 0.8183\n",
            "Epoch 198/200\n",
            "1563/1563 [==============================] - 11s 7ms/step - loss: 0.6130 - accuracy: 0.7925 - val_loss: 0.5282 - val_accuracy: 0.8220\n",
            "Epoch 199/200\n",
            "1563/1563 [==============================] - 11s 7ms/step - loss: 0.6065 - accuracy: 0.7941 - val_loss: 0.5776 - val_accuracy: 0.8040\n",
            "Epoch 200/200\n",
            "1563/1563 [==============================] - 12s 8ms/step - loss: 0.6098 - accuracy: 0.7923 - val_loss: 0.5681 - val_accuracy: 0.8096\n"
          ]
        },
        {
          "output_type": "stream",
          "name": "stderr",
          "text": [
            "/usr/local/lib/python3.10/dist-packages/keras/src/engine/training.py:3079: UserWarning: You are saving your model as an HDF5 file via `model.save()`. This file format is considered legacy. We recommend using instead the native Keras format, e.g. `model.save('my_model.keras')`.\n",
            "  saving_api.save_model(\n"
          ]
        },
        {
          "output_type": "display_data",
          "data": {
            "text/plain": [
              "<Figure size 640x480 with 1 Axes>"
            ],
            "image/png": "[encoded data removed]"
          },
          "metadata": {}
        },
        {
          "output_type": "display_data",
          "data": {
            "text/plain": [
              "<Figure size 640x480 with 1 Axes>"
            ],
            "image/png": "[encoded data removed]"
          },
          "metadata": {}
        }
      ]
    },
    {
      "cell_type": "code",
      "source": [
        "test_loss, test_accuracy = model.evaluate(x_test, y_test)"
      ],
      "metadata": {
        "colab": {
          "base_uri": "https://localhost:8080/"
        },
        "id": "jJ3tZZN-H1dC",
        "outputId": "d5b1acc3-cb7a-4d42-f8a8-a21f657c2753"
      },
      "execution_count": null,
      "outputs": [
        {
          "output_type": "stream",
          "name": "stdout",
          "text": [
            "313/313 [==============================] - 1s 3ms/step - loss: 0.9312 - accuracy: 0.6934\n"
          ]
        }
      ]
    },
    {
      "cell_type": "code",
      "source": [
        "image_path = '/content/drive/My Drive/Research/Data/Classifier'\n",
        "model_path = '/content/drive/My Drive/Ronald/models/'"
      ],
      "metadata": {
        "id": "UScXxYnaq1WR"
      },
      "execution_count": null,
      "outputs": []
    },
    {
      "cell_type": "code",
      "source": [
        "import numpy as np\n",
        "y_pred = [] #store predicted labels\n",
        "y_true = [] #store true labels\n",
        "\n",
        "for image_batch, label_batch in val_ds:\n",
        "  y_true.append(label_batch)\n",
        "  preds = saved_model.predict(image_batch)\n",
        "  y_pred.append(np.argmax(preds, axis = -1))\n"
      ],
      "metadata": {
        "id": "FEcnCxafC8yv"
      },
      "execution_count": null,
      "outputs": []
    },
    {
      "cell_type": "code",
      "source": [
        "import tensorflow\n",
        "true_categories = tensorflow.concat([item for item in y_true], axis = 0)\n",
        "predicted_categories = tensorflow.concat([item for item in y_pred], axis = 0)"
      ],
      "metadata": {
        "id": "qnqoP4NHFAaA"
      },
      "execution_count": null,
      "outputs": []
    },
    {
      "cell_type": "code",
      "source": [
        "from sklearn.metrics import confusion_matrix\n",
        "\n",
        "cnf_matrix = confusion_matrix(true_categories, predicted_categories, normalize='pred')\n",
        "\n",
        "model.compile(optimizer='adam', loss = 'sparse_categorical_crossentropy', metrics = ['accuracy'])"
      ],
      "metadata": {
        "id": "WOVI4UG9MtIE"
      },
      "execution_count": null,
      "outputs": []
    }
  ]
}